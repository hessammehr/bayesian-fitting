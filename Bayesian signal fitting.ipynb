{
 "cells": [
  {
   "cell_type": "markdown",
   "metadata": {},
   "source": [
    "### Problem\n",
    "Given signals $s_1$ and $s_2$, can a series of contractions/dilations turn $s_2$ into a constant multiple of $s_1$? It is assumed that no important data is contained in the periphery of $s_1$, $s_2$."
   ]
  },
  {
   "cell_type": "markdown",
   "metadata": {},
   "source": [
    "### Representation of contractions/dilations\n",
    "Each contraction/dilation can be represented by a pair of numbers $(p, s)$, $p$ representing the site of contraction/dilation and $s$ its size ($s>0$: contraction; $s<0$: dilation). These are assumed to have bivariate normal distribution. \n",
    "### Prior distributions\n",
    "$\\Sigma_{p,p} = l$ where l is signal length; $\\Sigma_{s,s}=t$, where $t$ is match tolerance. $\\Sigma_{p,s}$? No idea yet."
   ]
  },
  {
   "cell_type": "code",
   "execution_count": null,
   "metadata": {},
   "outputs": [],
   "source": [
    "using Plots\n",
    "using Distributions\n",
    "gr()"
   ]
  },
  {
   "cell_type": "code",
   "execution_count": null,
   "metadata": {},
   "outputs": [],
   "source": [
    "\"\"\" Contracts/dilates `signal` at position `p` by\n",
    "amount `s`.\"\"\"\n",
    "function contralate!(signal, p, s)\n",
    "    l = length(signal)\n",
    "    if s >= 0 # dilation\n",
    "        s = min(l-p-1,s)\n",
    "        signal[p+s+1:end] = signal[p+1:end-s]\n",
    "        signal[p+1:p+s+1] .= signal[p]\n",
    "    else # contraction\n",
    "        s = max(p-1,-s)\n",
    "        signal[p+1:end-s] = signal[p+s+1:end]\n",
    "        signal[end-s+1:end] .= signal[end-s]\n",
    "    end\n",
    "    signal\n",
    "end\n",
    "\n",
    "contralate(signal, p, s) = contralate!(copy(signal), p, s)"
   ]
  },
  {
   "cell_type": "code",
   "execution_count": null,
   "metadata": {
    "scrolled": true
   },
   "outputs": [],
   "source": [
    "a=collect(1:50)\n",
    "scatter([a,contralate(a,5,4),contralate(a,10,-2),contralate(a,45,10),contralate(a,2,-5)],legend=:bottomright)"
   ]
  },
  {
   "cell_type": "code",
   "execution_count": null,
   "metadata": {},
   "outputs": [],
   "source": [
    "min(1,2)"
   ]
  },
  {
   "cell_type": "code",
   "execution_count": null,
   "metadata": {},
   "outputs": [],
   "source": []
  }
 ],
 "metadata": {
  "kernelspec": {
   "display_name": "Julia 0.6.1",
   "language": "julia",
   "name": "julia-0.6"
  },
  "language_info": {
   "file_extension": ".jl",
   "mimetype": "application/julia",
   "name": "julia",
   "version": "0.6.1"
  }
 },
 "nbformat": 4,
 "nbformat_minor": 2
}
