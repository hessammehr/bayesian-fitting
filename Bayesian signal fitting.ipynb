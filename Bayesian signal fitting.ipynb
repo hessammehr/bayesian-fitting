{
 "cells": [
  {
   "cell_type": "markdown",
   "metadata": {},
   "source": [
    "### Problem\n",
    "Given signals $s_1$ and $s_2$, can a series of contractions/dilations turn $s_2$ into a constant multiple of $s_1$? It is assumed that no important data is contained in the periphery of $s_1$, $s_2$."
   ]
  },
  {
   "cell_type": "markdown",
   "metadata": {},
   "source": [
    "### Representation of contractions/dilations\n",
    "Each contraction/dilation can be represented by a pair of numbers $(p, s)$, $p$ representing the site of contraction/dilation and $s$ its size ($s>0$: contraction; $s<0$: dilation). These are assumed to have bivariate normal distribution. \n",
    "### Prior distributions\n",
    "$\\Sigma_{p,p} = l$ where l is signal length; $\\Sigma_{s,s}=t$, where $t$ is match tolerance. $\\Sigma_{p,s}$? No idea yet."
   ]
  },
  {
   "cell_type": "code",
   "execution_count": null,
   "metadata": {},
   "outputs": [],
   "source": [
    "using Plots\n",
    "using Distributions"
   ]
  },
  {
   "cell_type": "code",
   "execution_count": null,
   "metadata": {},
   "outputs": [],
   "source": [
    "\"\"\" Contracts/dilates `signal` at position `p` by\n",
    "amount `s`.\"\"\"\n",
    "function contralate!(signal, p, s)\n",
    "    l = length(signal)\n",
    "    if s == 0 || p < 1 || p > l-1 || l+s < 1 || p+s+1 > l\n",
    "        return signal\n",
    "    end\n",
    "    if s > 0 # dilation\n",
    "        s = min(l-p-1,s)\n",
    "        signal[p+s+1:end] = signal[p+1:end-s]\n",
    "        signal[p+1:p+s+1] .= signal[p]\n",
    "    else # contraction\n",
    "        s = min(p-1,-s)\n",
    "        signal[p+1:end-s] = signal[p+s+1:end]\n",
    "        signal[end-s+1:end] .= signal[end-s]\n",
    "    end\n",
    "    signal\n",
    "end\n",
    "\n",
    "contralate(signal, p, s) = contralate!(copy(signal), p, s)\n",
    "# function contralate(signal, muts)\n",
    "#     s = copy(signal)\n",
    "    \n",
    "# end"
   ]
  },
  {
   "cell_type": "code",
   "execution_count": null,
   "metadata": {
    "scrolled": false
   },
   "outputs": [],
   "source": [
    "a=collect(1:50)\n",
    "scatter([a,contralate(a,5,4),contralate(a,10,-2),contralate(a,45,10),contralate(a,4,-5)],legend=:bottomright)"
   ]
  },
  {
   "cell_type": "code",
   "execution_count": null,
   "metadata": {},
   "outputs": [],
   "source": [
    "function tryfit(signal, mat, muts)\n",
    "#     println(muts)\n",
    "    m = copy(mat)\n",
    "    mm = @view m[:]\n",
    "    for i in size(muts, 1)\n",
    "        contralate!(mm, muts[i,1], muts[i,2]) \n",
    "    end\n",
    "    soln = m \\ signal\n",
    "    residue = norm(m*soln .- signal, 1)\n",
    "#     println(\"Solution: $soln, residue: $residue, matrix: $(m')\")\n",
    "    (soln, 1/residue)\n",
    "end"
   ]
  },
  {
   "cell_type": "code",
   "execution_count": null,
   "metadata": {},
   "outputs": [],
   "source": [
    "mat = Float64[ 0 0 0 1 2 1 0 0 0 0 0 0\n",
    "               0 0 0 0 0 0 0 1 0 0 1 0 ]'\n",
    "sig = Float64[ 0,1,2,1,0,0,0,0,0,0,0,0 ]\n",
    "scatter([sig,mat])"
   ]
  },
  {
   "cell_type": "code",
   "execution_count": null,
   "metadata": {},
   "outputs": [],
   "source": [
    "nmut = 4\n",
    "ntry = 1000\n",
    "nsample = 900\n",
    "σs = 4.0 # mutation size prior σ\n",
    "l,n = size(mat)\n",
    "npoints = 200\n",
    "μx = linspace(0.0,l*n,npoints)\n",
    "σx = linspace(-l/2,l/2,npoints)\n",
    "# all parameters priors assumed to be normal\n",
    "# column 1: p (mutation position)\n",
    "# column 2: s (mutation size)\n",
    "μ = hcat(fill(l*n/2, nmut), fill(0.0, nmut))\n",
    "σ = hcat(fill(float(2l*n), nmut), fill(σs, nmut))\n",
    "\n",
    "dists = hcat(Truncated.(Normal.(μ[:,1],σ[:,1]),1,l*n), Normal.(μ[:,2],σ[:,2]))\n",
    "plot(plot(μx,vec([pdf.(d,μx) for d in dists[:,1]])),\n",
    "    plot(σx,vec([pdf.(d,σx) for d in dists[:,2]])))"
   ]
  },
  {
   "cell_type": "code",
   "execution_count": null,
   "metadata": {},
   "outputs": [],
   "source": [
    "# for iterations = 1:10\n",
    "    pars=Array{Int,2}[]\n",
    "    weighted_scores = Array{Float64}(ntry)\n",
    "    for i = 1:ntry\n",
    "        muts = round.(Int,rand.(dists))\n",
    "        push!(pars, muts)\n",
    "        scores = tryfit(sig,mat,muts)\n",
    "        priors = pdf.(dists, muts)\n",
    "        weighted_scores[i] = scores[2]^4*sqrt(reduce(*,priors))\n",
    "    end\n",
    "\n",
    "dists = readjust(wsample(pars,weighted_scores,nsample))\n",
    "# println(collect(zip(pars,weighted_scores)))\n",
    "# plot(-l:0.1:l,vec([pdf.(d,-l:0.1:l) for d in dists]))\n",
    "plot(plot(μx,vec([pdf.(d,μx) for d in dists[:,1]])),\n",
    "    plot(σx,vec([pdf.(d,σx) for d in dists[:,2]])))"
   ]
  },
  {
   "cell_type": "code",
   "execution_count": null,
   "metadata": {},
   "outputs": [],
   "source": [
    "dists"
   ]
  },
  {
   "cell_type": "code",
   "execution_count": null,
   "metadata": {},
   "outputs": [],
   "source": [
    "function readjust(obs)\n",
    "    [(==(extrema(o[i] for o in obs)...) ? Normal(obs[1][i],0.1) : fit(Normal,[o[i] for o in obs])) for i in CartesianRange(size(obs[1]))]\n",
    "end"
   ]
  },
  {
   "cell_type": "code",
   "execution_count": null,
   "metadata": {},
   "outputs": [],
   "source": [
    "==(extrema(1 for x in 1:5)...)"
   ]
  },
  {
   "cell_type": "code",
   "execution_count": null,
   "metadata": {},
   "outputs": [],
   "source": [
    "a=plot()\n",
    "for x in m\n",
    "    plot!(x.x,x.density)\n",
    "end\n",
    "a"
   ]
  },
  {
   "cell_type": "code",
   "execution_count": null,
   "metadata": {},
   "outputs": [],
   "source": []
  },
  {
   "cell_type": "code",
   "execution_count": null,
   "metadata": {},
   "outputs": [],
   "source": [
    "for i = 1:50\n",
    "    println(wsample([0.2,0.8]))\n",
    "end"
   ]
  },
  {
   "cell_type": "code",
   "execution_count": null,
   "metadata": {},
   "outputs": [],
   "source": [
    "x=zeros(Int,50)\n",
    "x.=(()->wsample([0.2,0.8])).()"
   ]
  },
  {
   "cell_type": "code",
   "execution_count": null,
   "metadata": {},
   "outputs": [],
   "source": [
    "x"
   ]
  },
  {
   "cell_type": "code",
   "execution_count": null,
   "metadata": {},
   "outputs": [],
   "source": [
    "wsample([1,2,3],[0.1,0.2,0.1],4)"
   ]
  },
  {
   "cell_type": "code",
   "execution_count": null,
   "metadata": {},
   "outputs": [],
   "source": [
    "rand(3)[4:end-1]"
   ]
  },
  {
   "cell_type": "code",
   "execution_count": null,
   "metadata": {},
   "outputs": [],
   "source": []
  }
 ],
 "metadata": {
  "kernelspec": {
   "display_name": "Julia 0.6.1",
   "language": "julia",
   "name": "julia-0.6"
  },
  "language_info": {
   "file_extension": ".jl",
   "mimetype": "application/julia",
   "name": "julia",
   "version": "0.6.1"
  }
 },
 "nbformat": 4,
 "nbformat_minor": 2
}
